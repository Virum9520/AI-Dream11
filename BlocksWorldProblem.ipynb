{
  "nbformat": 4,
  "nbformat_minor": 0,
  "metadata": {
    "colab": {
      "provenance": [],
      "authorship_tag": "ABX9TyMuKT70EE3LM2lPSKDV4Bo8",
      "include_colab_link": true
    },
    "kernelspec": {
      "name": "python3",
      "display_name": "Python 3"
    },
    "language_info": {
      "name": "python"
    }
  },
  "cells": [
    {
      "cell_type": "markdown",
      "metadata": {
        "id": "view-in-github",
        "colab_type": "text"
      },
      "source": [
        "<a href=\"https://colab.research.google.com/github/Virum9520/AI-Dream11/blob/main/BlocksWorldProblem.ipynb\" target=\"_parent\"><img src=\"https://colab.research.google.com/assets/colab-badge.svg\" alt=\"Open In Colab\"/></a>"
      ]
    },
    {
      "cell_type": "code",
      "execution_count": null,
      "metadata": {
        "id": "lwcBj0DN7bhq"
      },
      "outputs": [],
      "source": [
        "STACK1 = ['D','C','B','A']\n",
        "STACK2 = ['F','E']\n",
        "STACK3 = []\n",
        "\n",
        "Table = [STACK1, STACK2, STACK3]"
      ]
    },
    {
      "cell_type": "code",
      "source": [
        "states = []\n",
        "def move_gen(table_state):\n",
        "\n",
        "  for i in range(len(table_state)):\n",
        "    current = [stack[:] for stack in table_state]\n",
        "    if len(current[i])!=0:\n",
        "      temp = current[i].pop()\n",
        "      print(temp)\n",
        "      for j in range(len(current)):\n",
        "          if i!=j:\n",
        "            current[j].append(temp)\n",
        "            print(current)\n",
        "            current[j].pop()\n",
        "            states.append(current)\n",
        "\n"
      ],
      "metadata": {
        "id": "h32FRmgSAoPg"
      },
      "execution_count": null,
      "outputs": []
    },
    {
      "cell_type": "code",
      "source": [
        "move_gen(Table)"
      ],
      "metadata": {
        "colab": {
          "base_uri": "https://localhost:8080/"
        },
        "id": "-7m3cY3aBp2H",
        "outputId": "74156397-a3e3-4232-d44e-1637178aeadd"
      },
      "execution_count": null,
      "outputs": [
        {
          "output_type": "stream",
          "name": "stdout",
          "text": [
            "A\n",
            "[['D', 'C', 'B'], ['F', 'E', 'A'], []]\n",
            "[['D', 'C', 'B'], ['F', 'E'], ['A']]\n",
            "E\n",
            "[['D', 'C', 'B', 'A', 'E'], ['F'], []]\n",
            "[['D', 'C', 'B', 'A'], ['F'], ['E']]\n"
          ]
        }
      ]
    },
    {
      "cell_type": "code",
      "source": [
        "print(states)"
      ],
      "metadata": {
        "colab": {
          "base_uri": "https://localhost:8080/"
        },
        "id": "Mec2FJe2ByW2",
        "outputId": "893e6197-60e7-4c13-dd44-b71c26fd5e86"
      },
      "execution_count": null,
      "outputs": [
        {
          "output_type": "stream",
          "name": "stdout",
          "text": [
            "[[['D', 'C', 'B'], ['F', 'E'], []], [['D', 'C', 'B'], ['F', 'E'], []], [['D', 'C', 'B', 'A'], ['F'], []], [['D', 'C', 'B', 'A'], ['F'], []]]\n"
          ]
        }
      ]
    },
    {
      "cell_type": "code",
      "source": [],
      "metadata": {
        "id": "bX4PpJJZNp5L"
      },
      "execution_count": null,
      "outputs": []
    }
  ]
}